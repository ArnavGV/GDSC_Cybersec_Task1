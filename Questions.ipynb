{
 "cells": [
  {
   "cell_type": "markdown",
   "metadata": {},
   "source": [
    "### Q1\n",
    "Ciphertext : YMLEWMGBODQTUXININKQTUUAIQC\n",
    "\n",
    "Key : The abbreviation of 3 important principles in Cybersecurity. Answer- CIA (confidentiality, integrity and availability)\n",
    "\n",
    "Hint : Polyalphabetic substitutions"
   ]
  },
  {
   "cell_type": "code",
   "execution_count": 9,
   "metadata": {},
   "outputs": [
    {
     "name": "stdout",
     "output_type": "stream",
     "text": [
      "65 97\n"
     ]
    }
   ],
   "source": [
    "print(ord(\"A\"),ord(\"a\"))"
   ]
  },
  {
   "cell_type": "code",
   "execution_count": 18,
   "metadata": {},
   "outputs": [
    {
     "name": "stdout",
     "output_type": "stream",
     "text": [
      "WELCOMETOBITSPILANIITSMAGIC\n"
     ]
    }
   ],
   "source": [
    "input=\"YMLEWMGBODQTUXININKQTUUAIQC\"\n",
    "key=\"CIA\"\n",
    "\n",
    "#Decryption\n",
    "dec_output=\"\"\n",
    "count=0\n",
    "for i in input:\n",
    "    if i.isalpha():\n",
    "        factor=count % len(key)\n",
    "        sum=(ord(i)-65) - (ord(key[factor])-65)\n",
    "        if sum>=0:\n",
    "            dec_output+=chr(sum+65)\n",
    "        else:\n",
    "            dec_output+=chr(26+sum+65)\n",
    "        count+=1\n",
    "    else:\n",
    "        dec_output+=i\n",
    "        count=0\n",
    "    # print(i,key[factor],count,factor, sum)\n",
    "print(dec_output)"
   ]
  },
  {
   "cell_type": "markdown",
   "metadata": {},
   "source": [
    "### Q2\n",
    "Ciphertext : UCOWgokwyaqgkqguowgykkg\n",
    "\n",
    "Alice said Adobe was attacked this year, find the sum of digits of that year. (Alice - a) Answer: 6 (2013)\n",
    "Bob said i would want to know the month as well, i'm curious. (Bob - b) Answer: 10 (October)\n",
    "\n",
    "Hint : Modular arithmetics, monoalphabetic substituions. Ans: Affine Cipher"
   ]
  },
  {
   "cell_type": "code",
   "execution_count": 136,
   "metadata": {},
   "outputs": [
    {
     "data": {
      "text/plain": [
       "'AAAAaaaaaaaaaaaaaaaaaaa'"
      ]
     },
     "execution_count": 136,
     "metadata": {},
     "output_type": "execute_result"
    }
   ],
   "source": [
    "input=\"UCOWgokwyaqgkqguowgykkg\"\n",
    "output=\"\"\n",
    "a=6\n",
    "b=10\n",
    "a_inv=0\n",
    "for i in range(26):\n",
    "    if(i*a % 26 == 1):\n",
    "        a_inv=i\n",
    "        break\n",
    "for i in input:\n",
    "    if i.lower()==i:\n",
    "        num=ord(i)-97\n",
    "        dec_num=(num-b)*a_inv % 26\n",
    "        output+=chr(dec_num+97)\n",
    "    if i.lower()!=i:\n",
    "        num=ord(i.lower())-97\n",
    "        dec_num=(num-b)*a_inv % 26\n",
    "        output+=chr(dec_num+97).upper() \n",
    "output "
   ]
  },
  {
   "cell_type": "code",
   "execution_count": 132,
   "metadata": {},
   "outputs": [
    {
     "data": {
      "text/plain": [
       "9"
      ]
     },
     "execution_count": 132,
     "metadata": {},
     "output_type": "execute_result"
    }
   ],
   "source": [
    "a=3\n",
    "for i in range(0,1024):\n",
    "    rem=(a*i) % 26\n",
    "    if rem==1:\n",
    "        break\n",
    "i\n",
    "\n"
   ]
  },
  {
   "cell_type": "markdown",
   "metadata": {},
   "source": [
    "### Q3\n",
    "Ciphertext : FdqLJhwDSdluRIFdhvdu\n",
    "\n",
    "Find the key yourself. Answer: 3\n",
    "\n",
    "Hint : A very famous shift cipher, Homonym - Scissor. Answer: Caesar"
   ]
  },
  {
   "cell_type": "code",
   "execution_count": 33,
   "metadata": {},
   "outputs": [
    {
     "name": "stdout",
     "output_type": "stream",
     "text": [
      "3 CanIGetAPairOFCaesar\n"
     ]
    }
   ],
   "source": [
    "input=\"FdqLJhwDSdluRIFdhvdu\"\n",
    "substi=3\n",
    "dec_output=\"\"\n",
    "for i in input:\n",
    "    if i.lower()==i:\n",
    "        wrap_factor=(ord(i)-substi)+123\n",
    "        if i.isalpha() and wrap_factor>219:\n",
    "            dec_output+=chr(ord(i)-substi)\n",
    "        elif i.isalpha() and wrap_factor<=219:\n",
    "            dec_output+=chr(wrap_factor-97)\n",
    "        else:\n",
    "            dec_output+=i\n",
    "    if i.lower()!=i:\n",
    "        i=i.lower()\n",
    "        wrap_factor=(ord(i)-substi)+123\n",
    "        if i.isalpha() and wrap_factor>219:\n",
    "            dec_output+=chr(ord(i)-substi).upper()\n",
    "        elif i.isalpha() and wrap_factor<=219:\n",
    "            dec_output+=chr(wrap_factor-97).upper()\n",
    "        else:\n",
    "            dec_output+=i\n",
    "print(substi, dec_output)"
   ]
  },
  {
   "cell_type": "markdown",
   "metadata": {},
   "source": [
    "### Q4\n",
    "Name of Cipher: halo convenant\n",
    "Type of Cipher: Symbol Cipher\n",
    "Plaintext: googlelensisyourfriend"
   ]
  },
  {
   "cell_type": "markdown",
   "metadata": {},
   "source": [
    "### Q5\n",
    "Ciphertext : YSNEAAOOMWTCNYED\n",
    "\n",
    "Key : The one word every bitsian knows and says all the time. ( 4 letters) Answer: LITE\n",
    "\n",
    "Hint of Cipher : An operation of Matrix ( A -> AT )"
   ]
  },
  {
   "cell_type": "code",
   "execution_count": 100,
   "metadata": {},
   "outputs": [
    {
     "data": {
      "text/plain": [
       "'MAN WAYSTOENCODE'"
      ]
     },
     "execution_count": 100,
     "metadata": {},
     "output_type": "execute_result"
    }
   ],
   "source": [
    "input=\" SNEAAOOMWTCNYED\"\n",
    "key=\"LITE\"\n",
    "output=\"\"\n",
    "output_l=[]\n",
    "key_l=[]\n",
    "for i in key:\n",
    "    key_l.append(i)\n",
    "key_l.sort()\n",
    "input_l=[]\n",
    "for i in input:\n",
    "    input_l.append(i)\n",
    "inner_l=[]\n",
    "outer_l=[]\n",
    "iter= len(input) // len(key) +1\n",
    "spaces=len(key) -(len(input) % len(key))\n",
    "for k in range(0,spaces):\n",
    "    input_l.append(\" \")\n",
    "# print(len(input),key_l, input_l, iter)\n",
    "for i in range(0,len(input_l),4):\n",
    "    inner_l=[]\n",
    "    for j in range(0,4):\n",
    "        inner_l.append(input_l[j+i])\n",
    "    outer_l.append(inner_l)\n",
    "# print(outer_l)\n",
    "order=[]\n",
    "for i in key:\n",
    "    order.append(key_l.index(i))\n",
    "for j in range(len(key)):    \n",
    "    for i in order:\n",
    "        output_l.append(outer_l[i][j])\n",
    "for i in output_l:\n",
    "    output+=i\n",
    "output"
   ]
  }
 ],
 "metadata": {
  "kernelspec": {
   "display_name": "Python 3",
   "language": "python",
   "name": "python3"
  },
  "language_info": {
   "codemirror_mode": {
    "name": "ipython",
    "version": 3
   },
   "file_extension": ".py",
   "mimetype": "text/x-python",
   "name": "python",
   "nbconvert_exporter": "python",
   "pygments_lexer": "ipython3",
   "version": "3.10.11"
  },
  "orig_nbformat": 4
 },
 "nbformat": 4,
 "nbformat_minor": 2
}
