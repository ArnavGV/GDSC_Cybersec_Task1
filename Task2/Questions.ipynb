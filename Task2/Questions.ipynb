{
 "cells": [
  {
   "cell_type": "markdown",
   "metadata": {},
   "source": [
    "## Q1\n",
    "Write a script/code to find the flag automatically by storing the character at each position"
   ]
  },
  {
   "cell_type": "code",
   "execution_count": 89,
   "metadata": {},
   "outputs": [
    {
     "name": "stdout",
     "output_type": "stream",
     "text": [
      "k__dsbe_g_mi_rs_cedmaysuasdteedyouupf_une_o_mr{yn_sbyu_plaitsbudpaiiutcergdpla_odtumab_n}mtsycypfs_umyeeukart_ucdyeureusnlafi_yutce_ay_yopamiu_nuayur_r_dceedmaynkaifomerungprfrscybeuuafirnced_myoen_rto_ucemyysgl_unsucc_ayarfro_semousg_m{_y_c__ul{idcaen_eyoursdpr{rdteurng}kiner_s{ioutd{t_t_n_cmoa{ir_tce_yenf_sudmsky_temyurengt_e_yeyeamrf__dunlt_u_sceyouupalr{ftr__ceey_yng}fiydc_ys_ud\n",
      "[0, 18, 18, 23, 28, 39, 46, 18, 52, 18, 62, 66, 18, 74, 28, 18, 89, 46, 23, 62, 96, 97, 28, 113, 96, 28, 23, 145, 46, 46, 23, 97, 162, 113, 113, 175, 191, 18, 113, 203, 46, 18, 162, 18, 62, 74, 244, 97, 203, 18, 28, 39, 97, 113, 18, 175, 300, 96, 66, 145, 28, 39, 113, 23, 175, 96, 66, 66, 113, 145, 89, 46, 74, 52, 23, 175, 300, 96, 18, 162, 23, 145, 113, 62, 96, 39, 18, 203, 474, 62, 145, 28, 97, 89, 97, 175, 191, 28, 18, 113, 62, 97, 46, 46, 113, 0, 96, 74, 145, 18, 113, 89, 23, 97, 46, 113, 74, 46, 113, 28, 203, 300, 96, 191, 66, 18, 97, 113, 145, 89, 46, 18, 96, 97, 18, 97, 162, 175, 96, 62, 66, 113, 18, 203, 113, 96, 97, 113, 74, 18, 74, 18, 23, 89, 46, 46, 23, 62, 96, 97, 203, 0, 96, 66, 191, 162, 62, 46, 74, 113, 203, 52, 175, 74, 191, 74, 28, 89, 97, 39, 46, 113, 113, 96, 191, 66, 74, 203, 89, 46, 23, 18, 62, 97, 162, 46, 203, 18, 74, 145, 162, 18, 113, 89, 46, 62, 97, 97, 28, 52, 300, 18, 113, 203, 28, 113, 89, 89, 18, 96, 97, 96, 74, 191, 74, 162, 18, 28, 46, 62, 162, 113, 28, 52, 18, 62, 244, 18, 97, 18, 89, 18, 18, 113, 300, 244, 66, 23, 89, 96, 46, 203, 18, 46, 97, 162, 113, 74, 28, 23, 175, 74, 244, 74, 23, 145, 46, 113, 74, 203, 52, 474, 0, 66, 203, 46, 74, 18, 28, 244, 66, 162, 113, 145, 23, 244, 145, 18, 145, 18, 203, 18, 89, 62, 162, 96, 244, 66, 74, 18, 145, 89, 46, 18, 97, 46, 203, 191, 18, 28, 113, 23, 62, 28, 0, 97, 18, 145, 46, 62, 97, 113, 74, 46, 203, 52, 145, 18, 46, 18, 97, 46, 97, 46, 96, 62, 74, 191, 18, 18, 23, 113, 203, 300, 145, 18, 113, 18, 28, 89, 46, 97, 162, 113, 113, 175, 96, 300, 74, 244, 191, 145, 74, 18, 18, 89, 46, 46, 97, 18, 97, 203, 52, 474, 191, 66, 97, 23, 89, 18, 97, 28, 18, 113, 23]\n"
     ]
    }
   ],
   "source": [
    "import string\n",
    "f=open('Q1.txt', 'r')\n",
    "data=f.read()\n",
    "f.close()\n",
    "# print(data)\n",
    "str=''\n",
    "indices=[]\n",
    "for i in data:\n",
    "    if i in string.ascii_letters or i in '{_}':\n",
    "        indices.append(data.index(i))\n",
    "        str+=i\n",
    "print(str)\n",
    "print(indices)"
   ]
  },
  {
   "cell_type": "markdown",
   "metadata": {},
   "source": [
    "## Q2\n",
    "Brute forcing a XOR cipher, plaintext starts with X"
   ]
  },
  {
   "cell_type": "code",
   "execution_count": 91,
   "metadata": {},
   "outputs": [
    {
     "name": "stdout",
     "output_type": "stream",
     "text": [
      "Xor is a Bitwise Operation\n",
      "key is 10\n"
     ]
    }
   ],
   "source": [
    "input='Rex*cy*k*Hc~}cyo*Ezoxk~ced'\n",
    "output=''\n",
    "for i in range(0,501): \n",
    "    for f in input:\n",
    "        output+=chr((ord(f))^i)\n",
    "    if output[0]=='X': \n",
    "        print(output)\n",
    "        print('key is',i)\n",
    "        output=''\n",
    "    else: output=''\n"
   ]
  },
  {
   "cell_type": "markdown",
   "metadata": {},
   "source": [
    "## Q3\n",
    "Brute forcing a shift cipher\n",
    "\n",
    "Ans: FLAG{Bruteforce_is_Easy}"
   ]
  },
  {
   "cell_type": "code",
   "execution_count": 92,
   "metadata": {},
   "outputs": [
    {
     "name": "stdout",
     "output_type": "stream",
     "text": [
      "SYNT{Oehgrsbepr_vf_Rnfl}\n",
      "TZOU{Pfihstcfqs_wg_Sogm}\n",
      "UAPV{Qgjitudgrt_xh_Tphn}\n",
      "VBQW{Rhkjuvehsu_yi_Uqio}\n",
      "WCRX{Silkvwfitv_zj_Vrjp}\n",
      "XDSY{Tjmlwxgjuw_ak_Wskq}\n",
      "YETZ{Uknmxyhkvx_bl_Xtlr}\n",
      "ZFUA{Vlonyzilwy_cm_Yums}\n",
      "AGVB{Wmpozajmxz_dn_Zvnt}\n",
      "BHWC{Xnqpabknya_eo_Awou}\n",
      "CIXD{Yorqbclozb_fp_Bxpv}\n",
      "DJYE{Zpsrcdmpac_gq_Cyqw}\n",
      "EKZF{Aqtsdenqbd_hr_Dzrx}\n",
      "FLAG{Bruteforce_is_Easy}\n",
      "GMBH{Csvufgpsdf_jt_Fbtz}\n",
      "HNCI{Dtwvghqteg_ku_Gcua}\n",
      "IODJ{Euxwhirufh_lv_Hdvb}\n",
      "JPEK{Fvyxijsvgi_mw_Iewc}\n",
      "KQFL{Gwzyjktwhj_nx_Jfxd}\n",
      "LRGM{Hxazkluxik_oy_Kgye}\n",
      "MSHN{Iybalmvyjl_pz_Lhzf}\n",
      "NTIO{Jzcbmnwzkm_qa_Miag}\n",
      "OUJP{Kadcnoxaln_rb_Njbh}\n",
      "PVKQ{Lbedopybmo_sc_Okci}\n",
      "QWLR{Mcfepqzcnp_td_Pldj}\n",
      "RXMS{Ndgfqradoq_ue_Qmek}\n",
      "SYNT{Oehgrsbepr_vf_Rnfl}\n"
     ]
    }
   ],
   "source": [
    "import string\n",
    "input='SYNT{Oehgrsbepr_vf_Rnfl}'\n",
    "output=''\n",
    "for s in range(0,27):\n",
    "    for i in input:\n",
    "        if i in string.ascii_lowercase:\n",
    "            ind=string.ascii_lowercase.index(i)\n",
    "            if (ind+s) > 25:\n",
    "                s_ind=ind+s-26\n",
    "            else:\n",
    "                s_ind=ind+s\n",
    "            output+=string.ascii_lowercase[s_ind]\n",
    "        elif i in string.ascii_uppercase:\n",
    "            ind=string.ascii_uppercase.index(i)\n",
    "            if (ind+s) > 25:\n",
    "                s_ind=ind+s-26\n",
    "            else:\n",
    "                s_ind=ind+s\n",
    "            output+=string.ascii_uppercase[s_ind]\n",
    "        else:\n",
    "            output+=i\n",
    "    print(output)\n",
    "    output=''\n"
   ]
  },
  {
   "cell_type": "markdown",
   "metadata": {},
   "source": [
    "## Q4\n",
    "Simple RSA\n",
    "\n",
    "Hint : Use FactorDB, cannot manually figure out the primes p and q.\n",
    "\n",
    "gcd(e,phi)=1 ?? why --> ans it.\n",
    "\n",
    "The message is a palindromic number starts and ends with 9. Use solve script !!\n",
    "\n",
    "Type of attack - ??\n",
    "\n",
    "\n",
    "Message (Integer number) - ??\n",
    "\n",
    "\n",
    "p=3504283903\n",
    "\n",
    "\n",
    "q=5557138357\n",
    "\n",
    "\n",
    "d=??\n",
    "\n",
    "\n",
    "phi=?? --> \n",
    "\n",
    "What is phi called ?? Euler Torient Function"
   ]
  },
  {
   "cell_type": "code",
   "execution_count": 96,
   "metadata": {},
   "outputs": [
    {
     "name": "stdout",
     "output_type": "stream",
     "text": [
      "phi= 19473790482117545112 d= 5727585435916925033\n",
      "plaintext 91111977911119\n"
     ]
    }
   ],
   "source": [
    "def egcd(a, b):\n",
    "    if a == 0:\n",
    "        return (b, 0, 1)\n",
    "    g, y, x = egcd(b%a,a)\n",
    "    return (g, x - (b//a) * y, y)\n",
    "\n",
    "def mod_inv(a, m):\n",
    "    g, x, y = egcd(a, m)\n",
    "    if g != 1:\n",
    "        raise Exception('No modular inverse')\n",
    "    return x%m\n",
    "\n",
    "e=17\n",
    "p=3504283903\n",
    "q=5557138357\n",
    "n=p*q\n",
    "phi=(p-1)*(q-1)\n",
    "d=mod_inv(e,phi)\n",
    "print('phi=',phi,'d=',d)\n",
    "m=8925700648516910493\n",
    "pt=pow(m,d,n)\n",
    "print('plaintext',pt)\n",
    "\n",
    "#---- PRIVATE KEYS\n",
    "\n",
    "# ct = 8925700648516910493\n",
    "# d = ??\n",
    "\n",
    "#---- PUBLIC KEYS\n",
    "\n",
    "# n = 19473790491178967371\n",
    "# e=17"
   ]
  },
  {
   "cell_type": "markdown",
   "metadata": {},
   "source": [
    "## Q5\n",
    "Cipher already given -> It's a Vigenere cipher || Symmetric Cipher\n",
    "\n",
    "ct=\"BQOSRU{Moo3_K3q_Bt0lhfk3}\"\n",
    "\n",
    "Key is unknown. But we know the flag format,\n",
    "\n",
    "flag format / Ans format : PILANI{}\n",
    "\n",
    "Type of attack - ?\n",
    "\n",
    "Key size - 6 letters (MIDSEM) (Flag format is just enough to find the key)\n",
    "\n",
    "Hint -> Check each time for all 26 letters for potential keys and concatenate them to get the final key. Ask me in case of doubt\n",
    "\n",
    "Complete the dec.py script to find the key and then decode the cipher using any online decoder. \n",
    "\n",
    "Flag -->  PILANI{Agl3_S3m_Ph0deng3}"
   ]
  },
  {
   "cell_type": "code",
   "execution_count": 127,
   "metadata": {},
   "outputs": [
    {
     "name": "stdout",
     "output_type": "stream",
     "text": [
      "key is MIDSEM\n"
     ]
    }
   ],
   "source": [
    "import string\n",
    "import math \n",
    "\n",
    "# flag=\"<<<FIND OUT>>>\"\n",
    "ct=\"BQOSRU{Moo3_K3q_Bt0lhfk3}\"\n",
    "flag2=\"PILANI{}\"\n",
    "\n",
    "known = \"PILANI\"\n",
    "ct_known = 'BQOSRU'\n",
    "\n",
    "key = '' # Variable for concatenating the key letters\n",
    "\n",
    "aslow = string.ascii_lowercase\n",
    "ashigh = string.ascii_uppercase\n",
    "\n",
    "for i, j in zip(known, ct_known):\n",
    "    if i in ashigh:\n",
    "        ind=ashigh.index(i)-ashigh.index(j)\n",
    "        if ind<0:\n",
    "            key+=ashigh[abs(ind)]\n",
    "        else:\n",
    "            key+=ashigh[26-ind]\n",
    "    else:\n",
    "        ind=aslow.index(i)-ashigh.index(j)\n",
    "        if ind<0:\n",
    "            key+=aslow[abs(ind)]\n",
    "        else:\n",
    "            key+=ashigh[26-ind]\n",
    "\n",
    "print('key is',key)"
   ]
  }
 ],
 "metadata": {
  "kernelspec": {
   "display_name": "Python 3",
   "language": "python",
   "name": "python3"
  },
  "language_info": {
   "codemirror_mode": {
    "name": "ipython",
    "version": 3
   },
   "file_extension": ".py",
   "mimetype": "text/x-python",
   "name": "python",
   "nbconvert_exporter": "python",
   "pygments_lexer": "ipython3",
   "version": "3.10.11"
  },
  "orig_nbformat": 4
 },
 "nbformat": 4,
 "nbformat_minor": 2
}
