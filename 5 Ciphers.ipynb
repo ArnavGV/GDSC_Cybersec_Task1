{
 "cells": [
  {
   "cell_type": "markdown",
   "metadata": {},
   "source": [
    "# Implementing 5 most popular Ciphers in python"
   ]
  },
  {
   "cell_type": "markdown",
   "metadata": {},
   "source": [
    "## Caeser Cipher\n",
    "Each alphabet is replaced by the alphabet 3 down."
   ]
  },
  {
   "cell_type": "code",
   "execution_count": 75,
   "metadata": {},
   "outputs": [
    {
     "name": "stdout",
     "output_type": "stream",
     "text": [
      "pb qdph lv duqdy\n",
      "my name is arnav\n"
     ]
    }
   ],
   "source": [
    "input=\"my name is arnav\"\n",
    "output=\"\"\n",
    "for i in input:\n",
    "    wrap_factor=(ord(i)+3)-123\n",
    "    if i.isalpha() and wrap_factor<0:\n",
    "        output+=chr(ord(i)+3)\n",
    "    elif i.isalpha() and wrap_factor>=0:\n",
    "        output+=chr(97+wrap_factor)\n",
    "    else:\n",
    "        output+=i\n",
    "print(output)\n",
    "\n",
    "#decryption\n",
    "dec_output=\"\"\n",
    "for i in output:\n",
    "    wrap_factor=(ord(i)-3)+123\n",
    "    if i.isalpha() and wrap_factor>219:\n",
    "        dec_output+=chr(ord(i)-3)\n",
    "    elif i.isalpha() and wrap_factor<=219:\n",
    "        dec_output+=chr(wrap_factor-97)\n",
    "    else:\n",
    "        dec_output+=i\n",
    "print(dec_output)\n",
    "\n"
   ]
  },
  {
   "cell_type": "markdown",
   "metadata": {},
   "source": [
    "## Monoalphabetic Cipher\n",
    "Caesar is a type of this. Instead of shifting by 3, you can shift by any number other than 26 (ie, substi by any letter other than the letter itself)"
   ]
  },
  {
   "cell_type": "code",
   "execution_count": 56,
   "metadata": {},
   "outputs": [
    {
     "name": "stdout",
     "output_type": "stream",
     "text": [
      "4\tq\n",
      "4\tqc\n",
      "5\tqc \n",
      "8\tqc v\n",
      "20\tqc vu\n",
      "25\tqc vul\n",
      "3\tqc vulh\n",
      "22\tqc vulh \n",
      "18\tqc vulh a\n",
      "14\tqc vulh ag\n",
      "24\tqc vulh ag \n",
      "4\tqc vulh ag e\n",
      "7\tqc vulh ag ey\n",
      "7\tqc vulh ag eyu\n",
      "20\tqc vulh ag eyuu\n",
      "19\tqc vulh ag eyuuo\n",
      "qc vulh ag eyuuo\n"
     ]
    }
   ],
   "source": [
    "import random\n",
    "input=\"my name is arnav\"\n",
    "output=\"\"\n",
    "\n",
    "# substi=3  #checking against Caesar Cipher result\n",
    "for i in input:\n",
    "    substi=random.randint(1,25)\n",
    "    wrap_factor=(ord(i)+substi)-123\n",
    "    if i.isalpha() and wrap_factor<0:\n",
    "        output+=chr(ord(i)+substi)\n",
    "    elif i.isalpha() and wrap_factor>=0:\n",
    "        output+=chr(97+wrap_factor)\n",
    "    else:\n",
    "        output+=i\n",
    "    # print(substi, output, sep=\"\\t\")       #verifying that it works\n",
    "print(output)"
   ]
  },
  {
   "cell_type": "markdown",
   "metadata": {},
   "source": [
    "## Homophonic Substitution\n",
    "Monoalphabetic, but you decide one number to shift the whole expression by, instead of a new number for each letter"
   ]
  },
  {
   "cell_type": "code",
   "execution_count": 81,
   "metadata": {},
   "outputs": [
    {
     "name": "stdout",
     "output_type": "stream",
     "text": [
      "key=\t8\tug vium qa izvid\n",
      "my name is arnav\n"
     ]
    }
   ],
   "source": [
    "import random\n",
    "input=\"my name is arnav\"\n",
    "output=\"\"\n",
    "substi=random.randint(1,25)\n",
    "# substi=3  #checking against Caesar Cipher result\n",
    "for i in input:\n",
    "    wrap_factor=(ord(i)+substi)-123\n",
    "    if i.isalpha() and wrap_factor<0:\n",
    "        output+=chr(ord(i)+substi)\n",
    "    elif i.isalpha() and wrap_factor>=0:\n",
    "        output+=chr(97+wrap_factor)\n",
    "    else:\n",
    "        output+=i\n",
    "print(\"key=\",substi, output, sep=\"\\t\")\n",
    "\n",
    "#Decryption\n",
    "dec_output=\"\"\n",
    "for i in output:\n",
    "    wrap_factor=(ord(i)-substi)+123\n",
    "    if i.isalpha() and wrap_factor>219:\n",
    "        dec_output+=chr(ord(i)-substi)\n",
    "    elif i.isalpha() and wrap_factor<=219:\n",
    "        dec_output+=chr(wrap_factor-97)\n",
    "    else:\n",
    "        dec_output+=i\n",
    "print(dec_output)"
   ]
  },
  {
   "cell_type": "markdown",
   "metadata": {},
   "source": [
    "## Polygram Substitution Cipher aka Polyalphabetic Substi\n",
    "complicated to explain, but letters are shifted using the Vignere table"
   ]
  },
  {
   "cell_type": "code",
   "execution_count": 13,
   "metadata": {},
   "outputs": [
    {
     "name": "stdout",
     "output_type": "stream",
     "text": [
      "gcyczfmlyleim gcyczfmlyleim\n",
      "geeksforgeeks geeksforgeeks\n"
     ]
    }
   ],
   "source": [
    "input=\"geeksforgeeks geeksforgeeks\"\n",
    "key=\"ayush\"\n",
    "\n",
    "output=\"\"\n",
    "count=0\n",
    "for i in input:\n",
    "    if i.isalpha():\n",
    "        factor=count % len(key)\n",
    "        sum=(ord(i)-97) + (ord(key[factor])-97)\n",
    "        if sum<26:\n",
    "            output+=chr(sum+97)\n",
    "        else:\n",
    "            output+=chr(97+sum-26)\n",
    "        count+=1\n",
    "    else:\n",
    "        output+=i\n",
    "        count=0\n",
    "    # print(i,key[factor],count,factor, sum)\n",
    "print(output)\n",
    "\n",
    "#Decryption\n",
    "dec_output=\"\"\n",
    "count=0\n",
    "for i in output:\n",
    "    if i.isalpha():\n",
    "        factor=count % len(key)\n",
    "        sum=(ord(i)-97) - (ord(key[factor])-97)\n",
    "        if sum>0:\n",
    "            dec_output+=chr(sum+97)\n",
    "        else:\n",
    "            dec_output+=chr(26+sum+97)\n",
    "        count+=1\n",
    "    else:\n",
    "        dec_output+=i\n",
    "        count=0\n",
    "    # print(i,key[factor],count,factor, sum)\n",
    "print(dec_output)"
   ]
  }
 ],
 "metadata": {
  "kernelspec": {
   "display_name": "Python 3",
   "language": "python",
   "name": "python3"
  },
  "language_info": {
   "codemirror_mode": {
    "name": "ipython",
    "version": 3
   },
   "file_extension": ".py",
   "mimetype": "text/x-python",
   "name": "python",
   "nbconvert_exporter": "python",
   "pygments_lexer": "ipython3",
   "version": "3.10.11"
  },
  "orig_nbformat": 4
 },
 "nbformat": 4,
 "nbformat_minor": 2
}
